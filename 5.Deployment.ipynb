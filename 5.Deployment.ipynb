{
 "cells": [
  {
   "cell_type": "code",
   "execution_count": 1,
   "id": "dfc54b64",
   "metadata": {},
   "outputs": [],
   "source": [
    "import pickle\n",
    "import warnings\n",
    "warnings.filterwarnings(\"ignore\")"
   ]
  },
  {
   "cell_type": "code",
   "execution_count": 2,
   "id": "d91934cc",
   "metadata": {},
   "outputs": [],
   "source": [
    "sc = pickle.load(open('sc.pkl','rb'))"
   ]
  },
  {
   "cell_type": "code",
   "execution_count": 3,
   "id": "851d999f",
   "metadata": {},
   "outputs": [
    {
     "data": {
      "text/plain": [
       "array([[-0.16351328, -1.68717418, -0.44420492,  1.50854754, -8.74237919]])"
      ]
     },
     "execution_count": 3,
     "metadata": {},
     "output_type": "execute_result"
    }
   ],
   "source": [
    "user_input = sc.transform([[2341,150, 1, 1.89,0]])\n",
    "user_input"
   ]
  },
  {
   "cell_type": "code",
   "execution_count": 4,
   "id": "ba308e09",
   "metadata": {},
   "outputs": [],
   "source": [
    "loaded_model = pickle.load(open('Best_Model.sav','rb'))\n",
    "Prediction = loaded_model.predict(user_input)"
   ]
  },
  {
   "cell_type": "code",
   "execution_count": 5,
   "id": "9ec17484",
   "metadata": {},
   "outputs": [
    {
     "data": {
      "text/plain": [
       "array([850.05306287])"
      ]
     },
     "execution_count": 5,
     "metadata": {},
     "output_type": "execute_result"
    }
   ],
   "source": [
    "Prediction"
   ]
  }
 ],
 "metadata": {
  "kernelspec": {
   "display_name": "Python 3 (ipykernel)",
   "language": "python",
   "name": "python3"
  },
  "language_info": {
   "codemirror_mode": {
    "name": "ipython",
    "version": 3
   },
   "file_extension": ".py",
   "mimetype": "text/x-python",
   "name": "python",
   "nbconvert_exporter": "python",
   "pygments_lexer": "ipython3",
   "version": "3.7.1"
  }
 },
 "nbformat": 4,
 "nbformat_minor": 5
}
